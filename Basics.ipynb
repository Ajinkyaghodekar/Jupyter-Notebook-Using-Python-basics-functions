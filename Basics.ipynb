{
 "cells": [
  {
   "cell_type": "code",
   "execution_count": null,
   "metadata": {
    "collapsed": true
   },
   "outputs": [],
   "source": [
    "opened_file = open('AppleStore.csv')\n",
    "from csv import reader\n",
    "read_file = reader(opened_file)\n",
    "apps_data = list(read_file)\n"
   ]
  },
  {
   "cell_type": "code",
   "execution_count": 33,
   "metadata": {
    "collapsed": true
   },
   "outputs": [],
   "source": [
    "all_ratings = []\n",
    "for row in apps_data[1:]:\n",
    "    rating = float(row[7])\n",
    "    all_ratings.append(rating)\n",
    "    "
   ]
  },
  {
   "cell_type": "code",
   "execution_count": 34,
   "metadata": {
    "collapsed": false
   },
   "outputs": [
    {
     "data": {
      "text/plain": [
       "3.526955675976101"
      ]
     },
     "execution_count": 34,
     "metadata": {},
     "output_type": "execute_result"
    }
   ],
   "source": [
    "avg_rating = sum(all_ratings) / len(all_ratings)\n",
    "avg_rating"
   ]
  },
  {
   "cell_type": "code",
   "execution_count": 35,
   "metadata": {
    "collapsed": false
   },
   "outputs": [
    {
     "name": "stdout",
     "output_type": "stream",
     "text": [
      "test code\n"
     ]
    }
   ],
   "source": [
    "print('test code')"
   ]
  },
  {
   "cell_type": "code",
   "execution_count": 36,
   "metadata": {
    "collapsed": false
   },
   "outputs": [
    {
     "name": "stdout",
     "output_type": "stream",
     "text": [
      "Hello, Jupyter!\n"
     ]
    }
   ],
   "source": [
    "welcome_message = 'Hello, Jupyter!'\n",
    "first_cell = True\n",
    "if first_cell:\n",
    "    print(welcome_message)\n"
   ]
  },
  {
   "cell_type": "code",
   "execution_count": 37,
   "metadata": {
    "collapsed": false
   },
   "outputs": [
    {
     "name": "stdout",
     "output_type": "stream",
     "text": [
      "240.0\n"
     ]
    }
   ],
   "source": [
    "result = 1200/5\n",
    "second_cell = True\n",
    "if second_cell:\n",
    "    print(result)\n",
    "    \n",
    "\n"
   ]
  },
  {
   "cell_type": "code",
   "execution_count": 2,
   "metadata": {
    "collapsed": false
   },
   "outputs": [
    {
     "name": "stdout",
     "output_type": "stream",
     "text": [
      "First cell\n"
     ]
    }
   ],
   "source": [
    "print('First cell')\n"
   ]
  },
  {
   "cell_type": "code",
   "execution_count": 5,
   "metadata": {
    "collapsed": false
   },
   "outputs": [
    {
     "name": "stdout",
     "output_type": "stream",
     "text": [
      "Third cell\n"
     ]
    }
   ],
   "source": [
    "print('Third cell')\n"
   ]
  },
  {
   "cell_type": "code",
   "execution_count": 8,
   "metadata": {
    "collapsed": false
   },
   "outputs": [
    {
     "name": "stdout",
     "output_type": "stream",
     "text": [
      "Second cell\n"
     ]
    }
   ],
   "source": [
    "print('Second cell')"
   ]
  },
  {
   "cell_type": "code",
   "execution_count": 9,
   "metadata": {
    "collapsed": false
   },
   "outputs": [
    {
     "name": "stdout",
     "output_type": "stream",
     "text": [
      "A true third cell\n"
     ]
    }
   ],
   "source": [
    "print('A true third cell')"
   ]
  },
  {
   "cell_type": "code",
   "execution_count": 27,
   "metadata": {
    "collapsed": true
   },
   "outputs": [],
   "source": [
    "def welcome(a_string):\n",
    "    print('welcome to'  + a_string + '!')\n",
    "    \n",
    "dq = 'Dataquest'\n",
    "jn = 'Jupyter Notebook'\n",
    "py = 'Python'\n"
   ]
  },
  {
   "cell_type": "code",
   "execution_count": 30,
   "metadata": {
    "collapsed": false
   },
   "outputs": [
    {
     "name": "stdout",
     "output_type": "stream",
     "text": [
      "welcome toDataquest!\n",
      "welcome toJupyter Notebook!\n",
      "welcome toPython!\n"
     ]
    }
   ],
   "source": [
    "welcome(dq)\n",
    "welcome(jn)\n",
    "welcome(py)\n",
    "\n",
    "\n"
   ]
  },
  {
   "cell_type": "code",
   "execution_count": 33,
   "metadata": {
    "collapsed": false
   },
   "outputs": [
    {
     "name": "stdout",
     "output_type": "stream",
     "text": [
      ">>> print('First cell')\n",
      ">>> print('First cell')\n",
      ">>> print('Third cell')\n",
      ">>> print('Third cell')\n",
      ">>> print('Third cell')\n",
      ">>> print('Second cell')\n",
      ">>> print('Second cell')\n",
      ">>> print('Second cell')\n",
      ">>> print('A true third cell')\n",
      ">>> def welcome(a_string):\n",
      "...     print('welcome to'  + a_string + '!')\n",
      "...     \n",
      "... dq = 'Dataquest'\n",
      "... jn = 'Jupyter Notebook'\n",
      "... py = 'Python'\n",
      "...\n",
      ">>> welcome() = dq, jn, py\n",
      ">>> welcome(dq, jn, py)\n",
      ">>> welcome(a_string)\n",
      ">>> welcome() = (dq, jn, py)\n",
      ">>> welcome(dq)\n",
      "... welcome(jn)\n",
      "... welcome(py)\n",
      "...\n",
      ">>> welcome('dq')\n",
      "... welcome('jn')\n",
      "... welcome('py')\n",
      "...\n",
      ">>> welcome = (dq)\n",
      "... welcome = (jn)\n",
      "... welcome = (py)\n",
      "...\n",
      ">>> welcome = (dq)\n",
      "... welcome = (jn)\n",
      "... welcome = (py)\n",
      "...\n",
      ">>> welcome(dq)\n",
      "... welcome(jn)\n",
      "... welcome(py)\n",
      "...\n",
      ">>> welcome(dq)\n",
      "... welcome(jn)\n",
      "... welcome(py)\n",
      "...\n",
      ">>> welcome(dq)\n",
      "... welcome(jn)\n",
      "... welcome(py)\n",
      "...\n",
      ">>> welcome = 'dq'\n",
      "... welcome = 'jn'\n",
      "... welcome = 'py'\n",
      "...\n",
      ">>> welcome(dq)\n",
      "... welcome(jn)\n",
      "... welcome(py)\n",
      "...\n",
      ">>> welcome(dq)\n",
      ">>> welcome(str = dq)\n",
      ">>> def welcome(a_string):\n",
      "...     print('welcome to'  + a_string + '!')\n",
      "...     \n",
      "... dq = 'Dataquest'\n",
      "... jn = 'Jupyter Notebook'\n",
      "... py = 'Python'\n",
      "...\n",
      ">>> def welcome(a_string):\n",
      "...     print('welcome to'  + a_string + '!')\n",
      "...     \n",
      "... dq = 'Dataquest'\n",
      "... jn = 'Jupyter Notebook'\n",
      "... py = 'Python'\n",
      "...\n",
      ">>> welcome(dq)\n",
      ">>> welcome( dq )\n",
      ">>> welcome(dq)\n",
      "... welcome(jn)\n",
      "... welcome(py)\n",
      "...\n",
      ">>> %history -p\n",
      ">>> %history -p\n",
      ">>> %history -p\n"
     ]
    }
   ],
   "source": [
    "%history -p"
   ]
  },
  {
   "cell_type": "code",
   "execution_count": 34,
   "metadata": {
    "collapsed": false
   },
   "outputs": [
    {
     "name": "stdout",
     "output_type": "stream",
     "text": [
      ">>> print('First cell')\n",
      ">>> print('First cell')\n",
      ">>> print('Third cell')\n",
      ">>> print('Third cell')\n",
      ">>> print('Third cell')\n",
      ">>> print('Second cell')\n",
      ">>> print('Second cell')\n",
      ">>> print('Second cell')\n",
      ">>> print('A true third cell')\n",
      ">>> def welcome(a_string):\n",
      "...     print('welcome to'  + a_string + '!')\n",
      "...     \n",
      "... dq = 'Dataquest'\n",
      "... jn = 'Jupyter Notebook'\n",
      "... py = 'Python'\n",
      "...\n",
      ">>> welcome() = dq, jn, py\n",
      ">>> welcome(dq, jn, py)\n",
      ">>> welcome(a_string)\n",
      ">>> welcome() = (dq, jn, py)\n",
      ">>> welcome(dq)\n",
      "... welcome(jn)\n",
      "... welcome(py)\n",
      "...\n",
      ">>> welcome('dq')\n",
      "... welcome('jn')\n",
      "... welcome('py')\n",
      "...\n",
      ">>> welcome = (dq)\n",
      "... welcome = (jn)\n",
      "... welcome = (py)\n",
      "...\n",
      ">>> welcome = (dq)\n",
      "... welcome = (jn)\n",
      "... welcome = (py)\n",
      "...\n",
      ">>> welcome(dq)\n",
      "... welcome(jn)\n",
      "... welcome(py)\n",
      "...\n",
      ">>> welcome(dq)\n",
      "... welcome(jn)\n",
      "... welcome(py)\n",
      "...\n",
      ">>> welcome(dq)\n",
      "... welcome(jn)\n",
      "... welcome(py)\n",
      "...\n",
      ">>> welcome = 'dq'\n",
      "... welcome = 'jn'\n",
      "... welcome = 'py'\n",
      "...\n",
      ">>> welcome(dq)\n",
      "... welcome(jn)\n",
      "... welcome(py)\n",
      "...\n",
      ">>> welcome(dq)\n",
      ">>> welcome(str = dq)\n",
      ">>> def welcome(a_string):\n",
      "...     print('welcome to'  + a_string + '!')\n",
      "...     \n",
      "... dq = 'Dataquest'\n",
      "... jn = 'Jupyter Notebook'\n",
      "... py = 'Python'\n",
      "...\n",
      ">>> def welcome(a_string):\n",
      "...     print('welcome to'  + a_string + '!')\n",
      "...     \n",
      "... dq = 'Dataquest'\n",
      "... jn = 'Jupyter Notebook'\n",
      "... py = 'Python'\n",
      "...\n",
      ">>> welcome(dq)\n",
      ">>> welcome( dq )\n",
      ">>> welcome(dq)\n",
      "... welcome(jn)\n",
      "... welcome(py)\n",
      "...\n",
      ">>> %history -p\n",
      ">>> %history -p\n",
      ">>> %history -p\n",
      ">>> %history -p\n"
     ]
    }
   ],
   "source": [
    "%history -p"
   ]
  },
  {
   "cell_type": "code",
   "execution_count": 42,
   "metadata": {
    "collapsed": false
   },
   "outputs": [],
   "source": [
    "def welcome(a_string):\n",
    "    welcome_msg = 'Welcome to ' + a_string + '!'\n",
    "    return welcome_msg\n",
    "\n",
    "dq = 'Dataquest'\n",
    "jq = 'Jupyter Notebook'\n"
   ]
  },
  {
   "cell_type": "code",
   "execution_count": 43,
   "metadata": {
    "collapsed": false
   },
   "outputs": [
    {
     "data": {
      "text/plain": [
       "'Welcome to Jupyter Notebook!'"
      ]
     },
     "execution_count": 43,
     "metadata": {},
     "output_type": "execute_result"
    }
   ],
   "source": [
    "welcome(dq)\n",
    "welcome(jq)\n"
   ]
  },
  {
   "cell_type": "code",
   "execution_count": 45,
   "metadata": {
    "collapsed": false
   },
   "outputs": [
    {
     "name": "stdout",
     "output_type": "stream",
     "text": [
      ">>> print('First cell')\n",
      ">>> print('First cell')\n",
      ">>> print('Third cell')\n",
      ">>> print('Third cell')\n",
      ">>> print('Third cell')\n",
      ">>> print('Second cell')\n",
      ">>> print('Second cell')\n",
      ">>> print('Second cell')\n",
      ">>> print('A true third cell')\n",
      ">>> def welcome(a_string):\n",
      "...     print('welcome to'  + a_string + '!')\n",
      "...     \n",
      "... dq = 'Dataquest'\n",
      "... jn = 'Jupyter Notebook'\n",
      "... py = 'Python'\n",
      "...\n",
      ">>> welcome() = dq, jn, py\n",
      ">>> welcome(dq, jn, py)\n",
      ">>> welcome(a_string)\n",
      ">>> welcome() = (dq, jn, py)\n",
      ">>> welcome(dq)\n",
      "... welcome(jn)\n",
      "... welcome(py)\n",
      "...\n",
      ">>> welcome('dq')\n",
      "... welcome('jn')\n",
      "... welcome('py')\n",
      "...\n",
      ">>> welcome = (dq)\n",
      "... welcome = (jn)\n",
      "... welcome = (py)\n",
      "...\n",
      ">>> welcome = (dq)\n",
      "... welcome = (jn)\n",
      "... welcome = (py)\n",
      "...\n",
      ">>> welcome(dq)\n",
      "... welcome(jn)\n",
      "... welcome(py)\n",
      "...\n",
      ">>> welcome(dq)\n",
      "... welcome(jn)\n",
      "... welcome(py)\n",
      "...\n",
      ">>> welcome(dq)\n",
      "... welcome(jn)\n",
      "... welcome(py)\n",
      "...\n",
      ">>> welcome = 'dq'\n",
      "... welcome = 'jn'\n",
      "... welcome = 'py'\n",
      "...\n",
      ">>> welcome(dq)\n",
      "... welcome(jn)\n",
      "... welcome(py)\n",
      "...\n",
      ">>> welcome(dq)\n",
      ">>> welcome(str = dq)\n",
      ">>> def welcome(a_string):\n",
      "...     print('welcome to'  + a_string + '!')\n",
      "...     \n",
      "... dq = 'Dataquest'\n",
      "... jn = 'Jupyter Notebook'\n",
      "... py = 'Python'\n",
      "...\n",
      ">>> def welcome(a_string):\n",
      "...     print('welcome to'  + a_string + '!')\n",
      "...     \n",
      "... dq = 'Dataquest'\n",
      "... jn = 'Jupyter Notebook'\n",
      "... py = 'Python'\n",
      "...\n",
      ">>> welcome(dq)\n",
      ">>> welcome( dq )\n",
      ">>> welcome(dq)\n",
      "... welcome(jn)\n",
      "... welcome(py)\n",
      "...\n",
      ">>> %history -p\n",
      ">>> %history -p\n",
      ">>> %history -p\n",
      ">>> %history -p\n",
      ">>> def welcome(a_string):\n",
      "...     print('Welcome to ' + a_string + '!')\n",
      "...     return welcome\n",
      "...\n",
      ">>> def welcome(a_string):\n",
      "...     print('Welcome to ' + a_string + '!')\n",
      "...     return welcome\n",
      "... welcome()\n",
      "...\n",
      ">>> def welcome(a_string):\n",
      "...     print('Welcome to ' + a_string + '!')\n",
      "...     return welcome\n",
      "... welcome(a_string)\n",
      "...\n",
      ">>> def welcome(a_string):\n",
      "...     print('Welcome to ' + a_string + '!')\n",
      "...     return welcome\n",
      "...\n",
      ">>> def welcome(a_string):\n",
      "...     dq = 'Welcome to ' + a_string + '!'\n",
      "...     return dq\n",
      "...\n",
      ">>> def welcome(a_string):\n",
      "...     dq = 'Welcome to ' + a_string + '!'\n",
      "...     return dq\n",
      "...\n",
      ">>> def welcome(a_string):\n",
      "...     welcome_msg = 'Welcome to ' + a_string + '!'\n",
      "...     return welcome_msg\n",
      "... \n",
      "... dq = 'Dataquest'\n",
      "... jq = 'Jupyter Notebook'\n",
      "...\n",
      ">>> def welcome(a_string):\n",
      "...     welcome_msg = 'Welcome to ' + a_string + '!'\n",
      "...     return welcome_msg\n",
      "... \n",
      "... dq = 'Dataquest'\n",
      "... jq = 'Jupyter Notebook'\n",
      "...\n",
      ">>> welcome(dq)\n",
      "... welcome(jq)\n",
      "...\n",
      ">>> %history -p\n",
      ">>> %history -p\n"
     ]
    }
   ],
   "source": [
    "%history -p\n"
   ]
  },
  {
   "cell_type": "code",
   "execution_count": 46,
   "metadata": {
    "collapsed": false
   },
   "outputs": [
    {
     "data": {
      "text/plain": [
       "'Welcome to Python!'"
      ]
     },
     "execution_count": 46,
     "metadata": {},
     "output_type": "execute_result"
    }
   ],
   "source": [
    "welcome(py)"
   ]
  },
  {
   "cell_type": "code",
   "execution_count": 47,
   "metadata": {
    "collapsed": false
   },
   "outputs": [
    {
     "data": {
      "text/plain": [
       "'Welcome to Dataquest!'"
      ]
     },
     "execution_count": 47,
     "metadata": {},
     "output_type": "execute_result"
    }
   ],
   "source": [
    "welcome(dq)"
   ]
  },
  {
   "cell_type": "code",
   "execution_count": 49,
   "metadata": {
    "collapsed": false
   },
   "outputs": [],
   "source": [
    "opened_file  = open('AppleStore.csv')"
   ]
  },
  {
   "cell_type": "code",
   "execution_count": 51,
   "metadata": {
    "collapsed": false
   },
   "outputs": [],
   "source": [
    "from csv import reader"
   ]
  },
  {
   "cell_type": "code",
   "execution_count": 52,
   "metadata": {
    "collapsed": true
   },
   "outputs": [],
   "source": [
    "read_file = reader(opened_file)"
   ]
  },
  {
   "cell_type": "code",
   "execution_count": 53,
   "metadata": {
    "collapsed": true
   },
   "outputs": [],
   "source": [
    "apps_data = list(read_file)\n"
   ]
  },
  {
   "cell_type": "code",
   "execution_count": 54,
   "metadata": {
    "collapsed": false
   },
   "outputs": [
    {
     "data": {
      "text/plain": [
       "[['id',\n",
       "  'track_name',\n",
       "  'size_bytes',\n",
       "  'currency',\n",
       "  'price',\n",
       "  'rating_count_tot',\n",
       "  'rating_count_ver',\n",
       "  'user_rating',\n",
       "  'user_rating_ver',\n",
       "  'ver',\n",
       "  'cont_rating',\n",
       "  'prime_genre',\n",
       "  'sup_devices.num',\n",
       "  'ipadSc_urls.num',\n",
       "  'lang.num',\n",
       "  'vpp_lic'],\n",
       " ['284882215',\n",
       "  'Facebook',\n",
       "  '389879808',\n",
       "  'USD',\n",
       "  '0.0',\n",
       "  '2974676',\n",
       "  '212',\n",
       "  '3.5',\n",
       "  '3.5',\n",
       "  '95.0',\n",
       "  '4+',\n",
       "  'Social Networking',\n",
       "  '37',\n",
       "  '1',\n",
       "  '29',\n",
       "  '1'],\n",
       " ['389801252',\n",
       "  'Instagram',\n",
       "  '113954816',\n",
       "  'USD',\n",
       "  '0.0',\n",
       "  '2161558',\n",
       "  '1289',\n",
       "  '4.5',\n",
       "  '4.0',\n",
       "  '10.23',\n",
       "  '12+',\n",
       "  'Photo & Video',\n",
       "  '37',\n",
       "  '0',\n",
       "  '29',\n",
       "  '1'],\n",
       " ['529479190',\n",
       "  'Clash of Clans',\n",
       "  '116476928',\n",
       "  'USD',\n",
       "  '0.0',\n",
       "  '2130805',\n",
       "  '579',\n",
       "  '4.5',\n",
       "  '4.5',\n",
       "  '9.24.12',\n",
       "  '9+',\n",
       "  'Games',\n",
       "  '38',\n",
       "  '5',\n",
       "  '18',\n",
       "  '1']]"
      ]
     },
     "execution_count": 54,
     "metadata": {},
     "output_type": "execute_result"
    }
   ],
   "source": [
    "apps_data[:4]"
   ]
  },
  {
   "cell_type": "markdown",
   "metadata": {},
   "source": [
    "In the Above code cell we:\n",
    "\n",
    "1. First open the 'AppleStore.csv' file using the open() function and assign the output to the variable opened_file.\n",
    "2. Then import the reader() function from csv module\n",
    "3. Then created real_file variable using reader() function to read the opened_file.\n",
    "4. Then transform the read file into a list of lists using list() and save it to the variable name apps_data.\n",
    "5. Finally display header rows and first three rows of the dataset.\n"
   ]
  }
 ],
 "metadata": {
  "kernelspec": {
   "display_name": "Python 3",
   "language": "python",
   "name": "python3"
  },
  "language_info": {
   "codemirror_mode": {
    "name": "ipython",
    "version": 3
   },
   "file_extension": ".py",
   "mimetype": "text/x-python",
   "name": "python",
   "nbconvert_exporter": "python",
   "pygments_lexer": "ipython3",
   "version": "3.4.3"
  }
 },
 "nbformat": 4,
 "nbformat_minor": 2
}
